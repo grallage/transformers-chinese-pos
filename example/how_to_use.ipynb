{
  "nbformat": 4,
  "nbformat_minor": 0,
  "metadata": {
    "colab": {
      "name": "transformers-pos.ipynb",
      "provenance": [],
      "collapsed_sections": []
    },
    "kernelspec": {
      "name": "python3",
      "display_name": "Python 3"
    }
  },
  "cells": [
    {
      "cell_type": "code",
      "metadata": {
        "id": "SpP_whvReIlu",
        "colab_type": "code",
        "colab": {}
      },
      "source": [
        "# download corpus\n",
        "!wget https://raw.githubusercontent.com/InsaneLife/ChineseNLPCorpus/master/NER/renMinRiBao/renmin.txt"
      ],
      "execution_count": 0,
      "outputs": []
    },
    {
      "cell_type": "code",
      "metadata": {
        "id": "657z9Nh8ekEu",
        "colab_type": "code",
        "colab": {}
      },
      "source": [
        "# clone pos model project\n",
        "!git clone https://github.com/grallage/transformers-chinese-pos.git"
      ],
      "execution_count": 0,
      "outputs": []
    },
    {
      "cell_type": "code",
      "metadata": {
        "id": "oBOVS9bnemWm",
        "colab_type": "code",
        "colab": {}
      },
      "source": [
        "# preprocess corpus and get train.txt, dev.txt, test.txt and labels.txt\n",
        "!python renmin_preprocess.py ./renmin.txt 128"
      ],
      "execution_count": 0,
      "outputs": []
    },
    {
      "cell_type": "code",
      "metadata": {
        "id": "GBTv7X5Be78B",
        "colab_type": "code",
        "colab": {}
      },
      "source": [
        "!pip install transformers\n",
        "!pip install seqeval\n",
        "!pip install fastprogress"
      ],
      "execution_count": 0,
      "outputs": []
    },
    {
      "cell_type": "code",
      "metadata": {
        "id": "YVyRQr5ufBNM",
        "colab_type": "code",
        "colab": {}
      },
      "source": [
        "!ls -alh *.txt"
      ],
      "execution_count": 0,
      "outputs": []
    },
    {
      "cell_type": "code",
      "metadata": {
        "id": "BAK4hIPyfFzN",
        "colab_type": "code",
        "colab": {}
      },
      "source": [
        "# train model\n",
        "!python3 run_tf_ner.py --data_dir ./ \\\n",
        "--model_type bert \\\n",
        "--labels ./labels.txt \\\n",
        "--model_name_or_path bert-base-chinese \\\n",
        "--output_dir germeval \\\n",
        "--max_seq_length  128 \\\n",
        "--num_train_epochs 3 \\\n",
        "--per_device_train_batch_size 16 \\\n",
        "--save_steps 750 \\\n",
        "--seed 1 \\\n",
        "--do_train \\\n",
        "--overwrite_output_dir"
      ],
      "execution_count": 0,
      "outputs": []
    },
    {
      "cell_type": "code",
      "metadata": {
        "id": "FzbQoni8fd-R",
        "colab_type": "code",
        "colab": {}
      },
      "source": [
        "# test\n",
        "!python3 terminal_predict.py \\\n",
        "--model_type bert \\\n",
        "--labels ./labels.txt \\\n",
        "--output_dir germeval \\\n",
        "--max_seq_length  128 \\"
      ],
      "execution_count": 0,
      "outputs": []
    }
  ]
}